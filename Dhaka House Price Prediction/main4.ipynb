{
 "cells": [
  {
   "cell_type": "code",
   "execution_count": 1,
   "id": "5ea2534f",
   "metadata": {},
   "outputs": [],
   "source": [
    "import pandas as pd\n",
    "import numpy as np\n",
    "from matplotlib import pyplot as plt\n",
    "%matplotlib inline\n",
    "import matplotlib\n",
    "matplotlib.rcParams[\"figure.figsize\"]=(20,10)\n",
    "import seaborn as sns"
   ]
  },
  {
   "cell_type": "code",
   "execution_count": 42,
   "id": "ae26c817",
   "metadata": {},
   "outputs": [
    {
     "data": {
      "text/html": [
       "<div>\n",
       "<style scoped>\n",
       "    .dataframe tbody tr th:only-of-type {\n",
       "        vertical-align: middle;\n",
       "    }\n",
       "\n",
       "    .dataframe tbody tr th {\n",
       "        vertical-align: top;\n",
       "    }\n",
       "\n",
       "    .dataframe thead th {\n",
       "        text-align: right;\n",
       "    }\n",
       "</style>\n",
       "<table border=\"1\" class=\"dataframe\">\n",
       "  <thead>\n",
       "    <tr style=\"text-align: right;\">\n",
       "      <th></th>\n",
       "      <th>location</th>\n",
       "      <th>bedrooms</th>\n",
       "      <th>bath</th>\n",
       "      <th>size</th>\n",
       "      <th>price</th>\n",
       "    </tr>\n",
       "  </thead>\n",
       "  <tbody>\n",
       "    <tr>\n",
       "      <th>0</th>\n",
       "      <td>MotijheelExtension,Motijheel,Dhaka</td>\n",
       "      <td>3.0</td>\n",
       "      <td>2.0</td>\n",
       "      <td>1750</td>\n",
       "      <td>9500000</td>\n",
       "    </tr>\n",
       "    <tr>\n",
       "      <th>1</th>\n",
       "      <td>MotijheelExtension,Motijheel,Dhaka</td>\n",
       "      <td>3.0</td>\n",
       "      <td>2.0</td>\n",
       "      <td>1615</td>\n",
       "      <td>9500000</td>\n",
       "    </tr>\n",
       "    <tr>\n",
       "      <th>2</th>\n",
       "      <td>MotijheelExtension,Motijheel,Dhaka</td>\n",
       "      <td>3.0</td>\n",
       "      <td>2.0</td>\n",
       "      <td>1615</td>\n",
       "      <td>9500000</td>\n",
       "    </tr>\n",
       "    <tr>\n",
       "      <th>3</th>\n",
       "      <td>Sector5,Uttara,Dhaka</td>\n",
       "      <td>2.0</td>\n",
       "      <td>2.0</td>\n",
       "      <td>807</td>\n",
       "      <td>5200000</td>\n",
       "    </tr>\n",
       "    <tr>\n",
       "      <th>4</th>\n",
       "      <td>BlockG,BashundharaR-A,Dhaka</td>\n",
       "      <td>4.0</td>\n",
       "      <td>4.0</td>\n",
       "      <td>3100</td>\n",
       "      <td>40000000</td>\n",
       "    </tr>\n",
       "    <tr>\n",
       "      <th>...</th>\n",
       "      <td>...</td>\n",
       "      <td>...</td>\n",
       "      <td>...</td>\n",
       "      <td>...</td>\n",
       "      <td>...</td>\n",
       "    </tr>\n",
       "    <tr>\n",
       "      <th>8715</th>\n",
       "      <td>MiddlePaikpara,Mirpur,Dhaka</td>\n",
       "      <td>3.0</td>\n",
       "      <td>2.0</td>\n",
       "      <td>1025</td>\n",
       "      <td>4000000</td>\n",
       "    </tr>\n",
       "    <tr>\n",
       "      <th>8716</th>\n",
       "      <td>Sector13,Uttara,Dhaka</td>\n",
       "      <td>4.0</td>\n",
       "      <td>4.0</td>\n",
       "      <td>3000</td>\n",
       "      <td>32500000</td>\n",
       "    </tr>\n",
       "    <tr>\n",
       "      <th>8717</th>\n",
       "      <td>BlockF,BashundharaR-A,Dhaka</td>\n",
       "      <td>3.0</td>\n",
       "      <td>4.0</td>\n",
       "      <td>1695</td>\n",
       "      <td>13500000</td>\n",
       "    </tr>\n",
       "    <tr>\n",
       "      <th>8718</th>\n",
       "      <td>Section12,Mirpur,Dhaka</td>\n",
       "      <td>3.0</td>\n",
       "      <td>3.0</td>\n",
       "      <td>1150</td>\n",
       "      <td>4500000</td>\n",
       "    </tr>\n",
       "    <tr>\n",
       "      <th>8719</th>\n",
       "      <td>Sector9,Uttara,Dhaka</td>\n",
       "      <td>3.0</td>\n",
       "      <td>3.0</td>\n",
       "      <td>1550</td>\n",
       "      <td>11500000</td>\n",
       "    </tr>\n",
       "  </tbody>\n",
       "</table>\n",
       "<p>8720 rows × 5 columns</p>\n",
       "</div>"
      ],
      "text/plain": [
       "                                location  bedrooms  bath  size     price\n",
       "0     MotijheelExtension,Motijheel,Dhaka       3.0   2.0  1750   9500000\n",
       "1     MotijheelExtension,Motijheel,Dhaka       3.0   2.0  1615   9500000\n",
       "2     MotijheelExtension,Motijheel,Dhaka       3.0   2.0  1615   9500000\n",
       "3                   Sector5,Uttara,Dhaka       2.0   2.0   807   5200000\n",
       "4            BlockG,BashundharaR-A,Dhaka       4.0   4.0  3100  40000000\n",
       "...                                  ...       ...   ...   ...       ...\n",
       "8715         MiddlePaikpara,Mirpur,Dhaka       3.0   2.0  1025   4000000\n",
       "8716               Sector13,Uttara,Dhaka       4.0   4.0  3000  32500000\n",
       "8717         BlockF,BashundharaR-A,Dhaka       3.0   4.0  1695  13500000\n",
       "8718              Section12,Mirpur,Dhaka       3.0   3.0  1150   4500000\n",
       "8719                Sector9,Uttara,Dhaka       3.0   3.0  1550  11500000\n",
       "\n",
       "[8720 rows x 5 columns]"
      ]
     },
     "execution_count": 42,
     "metadata": {},
     "output_type": "execute_result"
    }
   ],
   "source": [
    "df = pd.read_csv('data.csv')\n",
    "df"
   ]
  },
  {
   "cell_type": "code",
   "execution_count": 3,
   "id": "ff738514",
   "metadata": {},
   "outputs": [],
   "source": [
    "df2 = df.drop_duplicates()"
   ]
  },
  {
   "cell_type": "code",
   "execution_count": 4,
   "id": "17cf7490",
   "metadata": {},
   "outputs": [],
   "source": [
    "df3 = df2.dropna()"
   ]
  },
  {
   "cell_type": "code",
   "execution_count": 5,
   "id": "b5418aaa",
   "metadata": {},
   "outputs": [
    {
     "data": {
      "text/plain": [
       "(5613, 5)"
      ]
     },
     "execution_count": 5,
     "metadata": {},
     "output_type": "execute_result"
    }
   ],
   "source": [
    "df3.shape"
   ]
  },
  {
   "cell_type": "code",
   "execution_count": 6,
   "id": "b8a9bf85",
   "metadata": {},
   "outputs": [
    {
     "name": "stderr",
     "output_type": "stream",
     "text": [
      "<ipython-input-6-7efacdcf69b5>:1: SettingWithCopyWarning: \n",
      "A value is trying to be set on a copy of a slice from a DataFrame.\n",
      "Try using .loc[row_indexer,col_indexer] = value instead\n",
      "\n",
      "See the caveats in the documentation: https://pandas.pydata.org/pandas-docs/stable/user_guide/indexing.html#returning-a-view-versus-a-copy\n",
      "  df3['location'] = df3['location'].str.lower()\n",
      "<ipython-input-6-7efacdcf69b5>:2: SettingWithCopyWarning: \n",
      "A value is trying to be set on a copy of a slice from a DataFrame.\n",
      "Try using .loc[row_indexer,col_indexer] = value instead\n",
      "\n",
      "See the caveats in the documentation: https://pandas.pydata.org/pandas-docs/stable/user_guide/indexing.html#returning-a-view-versus-a-copy\n",
      "  df3['location'] = df3['location'].str.split(',',n=0,expand=True)\n"
     ]
    }
   ],
   "source": [
    "df3['location'] = df3['location'].str.lower()\n",
    "df3['location'] = df3['location'].str.split(',',n=0,expand=True)"
   ]
  },
  {
   "cell_type": "code",
   "execution_count": 7,
   "id": "581d4f39",
   "metadata": {},
   "outputs": [
    {
     "data": {
      "text/html": [
       "<div>\n",
       "<style scoped>\n",
       "    .dataframe tbody tr th:only-of-type {\n",
       "        vertical-align: middle;\n",
       "    }\n",
       "\n",
       "    .dataframe tbody tr th {\n",
       "        vertical-align: top;\n",
       "    }\n",
       "\n",
       "    .dataframe thead th {\n",
       "        text-align: right;\n",
       "    }\n",
       "</style>\n",
       "<table border=\"1\" class=\"dataframe\">\n",
       "  <thead>\n",
       "    <tr style=\"text-align: right;\">\n",
       "      <th></th>\n",
       "      <th>location</th>\n",
       "      <th>bedrooms</th>\n",
       "      <th>bath</th>\n",
       "      <th>size</th>\n",
       "      <th>price</th>\n",
       "    </tr>\n",
       "  </thead>\n",
       "  <tbody>\n",
       "    <tr>\n",
       "      <th>0</th>\n",
       "      <td>motijheelextension</td>\n",
       "      <td>3.0</td>\n",
       "      <td>2.0</td>\n",
       "      <td>1750</td>\n",
       "      <td>9500000</td>\n",
       "    </tr>\n",
       "    <tr>\n",
       "      <th>1</th>\n",
       "      <td>motijheelextension</td>\n",
       "      <td>3.0</td>\n",
       "      <td>2.0</td>\n",
       "      <td>1615</td>\n",
       "      <td>9500000</td>\n",
       "    </tr>\n",
       "    <tr>\n",
       "      <th>3</th>\n",
       "      <td>sector5</td>\n",
       "      <td>2.0</td>\n",
       "      <td>2.0</td>\n",
       "      <td>807</td>\n",
       "      <td>5200000</td>\n",
       "    </tr>\n",
       "    <tr>\n",
       "      <th>4</th>\n",
       "      <td>blockg</td>\n",
       "      <td>4.0</td>\n",
       "      <td>4.0</td>\n",
       "      <td>3100</td>\n",
       "      <td>40000000</td>\n",
       "    </tr>\n",
       "    <tr>\n",
       "      <th>5</th>\n",
       "      <td>eastmaniknagar</td>\n",
       "      <td>3.0</td>\n",
       "      <td>3.0</td>\n",
       "      <td>1300</td>\n",
       "      <td>6600000</td>\n",
       "    </tr>\n",
       "    <tr>\n",
       "      <th>...</th>\n",
       "      <td>...</td>\n",
       "      <td>...</td>\n",
       "      <td>...</td>\n",
       "      <td>...</td>\n",
       "      <td>...</td>\n",
       "    </tr>\n",
       "    <tr>\n",
       "      <th>8715</th>\n",
       "      <td>middlepaikpara</td>\n",
       "      <td>3.0</td>\n",
       "      <td>2.0</td>\n",
       "      <td>1025</td>\n",
       "      <td>4000000</td>\n",
       "    </tr>\n",
       "    <tr>\n",
       "      <th>8716</th>\n",
       "      <td>sector13</td>\n",
       "      <td>4.0</td>\n",
       "      <td>4.0</td>\n",
       "      <td>3000</td>\n",
       "      <td>32500000</td>\n",
       "    </tr>\n",
       "    <tr>\n",
       "      <th>8717</th>\n",
       "      <td>blockf</td>\n",
       "      <td>3.0</td>\n",
       "      <td>4.0</td>\n",
       "      <td>1695</td>\n",
       "      <td>13500000</td>\n",
       "    </tr>\n",
       "    <tr>\n",
       "      <th>8718</th>\n",
       "      <td>section12</td>\n",
       "      <td>3.0</td>\n",
       "      <td>3.0</td>\n",
       "      <td>1150</td>\n",
       "      <td>4500000</td>\n",
       "    </tr>\n",
       "    <tr>\n",
       "      <th>8719</th>\n",
       "      <td>sector9</td>\n",
       "      <td>3.0</td>\n",
       "      <td>3.0</td>\n",
       "      <td>1550</td>\n",
       "      <td>11500000</td>\n",
       "    </tr>\n",
       "  </tbody>\n",
       "</table>\n",
       "<p>5613 rows × 5 columns</p>\n",
       "</div>"
      ],
      "text/plain": [
       "                location  bedrooms  bath  size     price\n",
       "0     motijheelextension       3.0   2.0  1750   9500000\n",
       "1     motijheelextension       3.0   2.0  1615   9500000\n",
       "3                sector5       2.0   2.0   807   5200000\n",
       "4                 blockg       4.0   4.0  3100  40000000\n",
       "5         eastmaniknagar       3.0   3.0  1300   6600000\n",
       "...                  ...       ...   ...   ...       ...\n",
       "8715      middlepaikpara       3.0   2.0  1025   4000000\n",
       "8716            sector13       4.0   4.0  3000  32500000\n",
       "8717              blockf       3.0   4.0  1695  13500000\n",
       "8718           section12       3.0   3.0  1150   4500000\n",
       "8719             sector9       3.0   3.0  1550  11500000\n",
       "\n",
       "[5613 rows x 5 columns]"
      ]
     },
     "execution_count": 7,
     "metadata": {},
     "output_type": "execute_result"
    }
   ],
   "source": [
    "df3"
   ]
  },
  {
   "cell_type": "code",
   "execution_count": 8,
   "id": "6527622f",
   "metadata": {},
   "outputs": [],
   "source": [
    "df4 = df3.copy()"
   ]
  },
  {
   "cell_type": "code",
   "execution_count": 9,
   "id": "d239218a",
   "metadata": {},
   "outputs": [
    {
     "data": {
      "text/plain": [
       "(5613, 5)"
      ]
     },
     "execution_count": 9,
     "metadata": {},
     "output_type": "execute_result"
    }
   ],
   "source": [
    "df4.shape"
   ]
  },
  {
   "cell_type": "code",
   "execution_count": 10,
   "id": "e4f36bdd",
   "metadata": {},
   "outputs": [],
   "source": [
    "df5 = df4[df4['bedrooms']<20]"
   ]
  },
  {
   "cell_type": "code",
   "execution_count": 11,
   "id": "39e940a0",
   "metadata": {},
   "outputs": [
    {
     "data": {
      "text/plain": [
       "(5587, 5)"
      ]
     },
     "execution_count": 11,
     "metadata": {},
     "output_type": "execute_result"
    }
   ],
   "source": [
    "df5.shape"
   ]
  },
  {
   "cell_type": "code",
   "execution_count": 12,
   "id": "3b0e7ff9",
   "metadata": {},
   "outputs": [],
   "source": [
    "df6 = df5[df5['bath']<20]"
   ]
  },
  {
   "cell_type": "code",
   "execution_count": 13,
   "id": "9422d038",
   "metadata": {},
   "outputs": [],
   "source": [
    "df7 = df6[df6['size']<3500]"
   ]
  },
  {
   "cell_type": "code",
   "execution_count": 14,
   "id": "1d89acd5",
   "metadata": {},
   "outputs": [],
   "source": [
    "df8 = df7[df7['size']>300]"
   ]
  },
  {
   "cell_type": "code",
   "execution_count": 15,
   "id": "f361b7de",
   "metadata": {},
   "outputs": [],
   "source": [
    "df9 = df8[df8['price']<30000000]"
   ]
  },
  {
   "cell_type": "code",
   "execution_count": 16,
   "id": "e5f30229",
   "metadata": {},
   "outputs": [
    {
     "data": {
      "text/plain": [
       "(5245, 5)"
      ]
     },
     "execution_count": 16,
     "metadata": {},
     "output_type": "execute_result"
    }
   ],
   "source": [
    "df9.shape"
   ]
  },
  {
   "cell_type": "code",
   "execution_count": 17,
   "id": "741d3713",
   "metadata": {},
   "outputs": [
    {
     "data": {
      "text/plain": [
       "<seaborn.axisgrid.PairGrid at 0x265e442d580>"
      ]
     },
     "execution_count": 17,
     "metadata": {},
     "output_type": "execute_result"
    },
    {
     "data": {
      "image/png": "[encoded data removed]",
      "text/plain": [
       "<Figure size 720x720 with 20 Axes>"
      ]
     },
     "metadata": {
      "needs_background": "light"
     },
     "output_type": "display_data"
    }
   ],
   "source": [
    "sns.pairplot(df9)"
   ]
  },
  {
   "cell_type": "code",
   "execution_count": 18,
   "id": "9909de35",
   "metadata": {},
   "outputs": [
    {
     "data": {
      "text/plain": [
       "location\n",
       "sector10     178\n",
       "pallabi      140\n",
       "ashkona      102\n",
       "section12    101\n",
       "blockf        97\n",
       "Name: location, dtype: int64"
      ]
     },
     "execution_count": 18,
     "metadata": {},
     "output_type": "execute_result"
    }
   ],
   "source": [
    "location_stats = df9.groupby('location')['location'].agg('count').sort_values(ascending=False)\n",
    "location_stats.head()"
   ]
  },
  {
   "cell_type": "code",
   "execution_count": 19,
   "id": "7b812c5c",
   "metadata": {},
   "outputs": [
    {
     "data": {
      "text/plain": [
       "location\n",
       "dakhshinpara      10\n",
       "2ndcolony         10\n",
       "shantibag         10\n",
       "westnakhalpara    10\n",
       "atibazar          10\n",
       "Name: location, dtype: int64"
      ]
     },
     "execution_count": 19,
     "metadata": {},
     "output_type": "execute_result"
    }
   ],
   "source": [
    "location_stats_less_than_10 = location_stats[location_stats<=10]\n",
    "location_stats_less_than_10.head()"
   ]
  },
  {
   "cell_type": "code",
   "execution_count": 20,
   "id": "3e406c2f",
   "metadata": {},
   "outputs": [
    {
     "name": "stderr",
     "output_type": "stream",
     "text": [
      "C:\\Users\\fahim\\anaconda3\\lib\\site-packages\\pandas\\core\\generic.py:5494: SettingWithCopyWarning: \n",
      "A value is trying to be set on a copy of a slice from a DataFrame.\n",
      "Try using .loc[row_indexer,col_indexer] = value instead\n",
      "\n",
      "See the caveats in the documentation: https://pandas.pydata.org/pandas-docs/stable/user_guide/indexing.html#returning-a-view-versus-a-copy\n",
      "  self[name] = value\n"
     ]
    },
    {
     "data": {
      "text/plain": [
       "116"
      ]
     },
     "execution_count": 20,
     "metadata": {},
     "output_type": "execute_result"
    }
   ],
   "source": [
    "df9.location=df9.location.apply(lambda x: 'other' if x in location_stats_less_than_10 else x)\n",
    "len(df9.location.unique())"
   ]
  },
  {
   "cell_type": "code",
   "execution_count": 21,
   "id": "41cee093",
   "metadata": {},
   "outputs": [
    {
     "data": {
      "text/html": [
       "<div>\n",
       "<style scoped>\n",
       "    .dataframe tbody tr th:only-of-type {\n",
       "        vertical-align: middle;\n",
       "    }\n",
       "\n",
       "    .dataframe tbody tr th {\n",
       "        vertical-align: top;\n",
       "    }\n",
       "\n",
       "    .dataframe thead th {\n",
       "        text-align: right;\n",
       "    }\n",
       "</style>\n",
       "<table border=\"1\" class=\"dataframe\">\n",
       "  <thead>\n",
       "    <tr style=\"text-align: right;\">\n",
       "      <th></th>\n",
       "      <th>ahmednagar</th>\n",
       "      <th>ashkona</th>\n",
       "      <th>baitulamanhousingsociety</th>\n",
       "      <th>bankcolony</th>\n",
       "      <th>banktown</th>\n",
       "      <th>bashabomadartekroad</th>\n",
       "      <th>blocka</th>\n",
       "      <th>blockb</th>\n",
       "      <th>blockc</th>\n",
       "      <th>blockd</th>\n",
       "      <th>...</th>\n",
       "      <th>tajmahalroad</th>\n",
       "      <th>taltola</th>\n",
       "      <th>tejkunipara</th>\n",
       "      <th>uttarbadda</th>\n",
       "      <th>wari</th>\n",
       "      <th>westagargaon</th>\n",
       "      <th>westdhanmondiandshangkar</th>\n",
       "      <th>westkazipara</th>\n",
       "      <th>westrampura</th>\n",
       "      <th>westshewrapara</th>\n",
       "    </tr>\n",
       "  </thead>\n",
       "  <tbody>\n",
       "    <tr>\n",
       "      <th>0</th>\n",
       "      <td>0</td>\n",
       "      <td>0</td>\n",
       "      <td>0</td>\n",
       "      <td>0</td>\n",
       "      <td>0</td>\n",
       "      <td>0</td>\n",
       "      <td>0</td>\n",
       "      <td>0</td>\n",
       "      <td>0</td>\n",
       "      <td>0</td>\n",
       "      <td>...</td>\n",
       "      <td>0</td>\n",
       "      <td>0</td>\n",
       "      <td>0</td>\n",
       "      <td>0</td>\n",
       "      <td>0</td>\n",
       "      <td>0</td>\n",
       "      <td>0</td>\n",
       "      <td>0</td>\n",
       "      <td>0</td>\n",
       "      <td>0</td>\n",
       "    </tr>\n",
       "    <tr>\n",
       "      <th>1</th>\n",
       "      <td>0</td>\n",
       "      <td>0</td>\n",
       "      <td>0</td>\n",
       "      <td>0</td>\n",
       "      <td>0</td>\n",
       "      <td>0</td>\n",
       "      <td>0</td>\n",
       "      <td>0</td>\n",
       "      <td>0</td>\n",
       "      <td>0</td>\n",
       "      <td>...</td>\n",
       "      <td>0</td>\n",
       "      <td>0</td>\n",
       "      <td>0</td>\n",
       "      <td>0</td>\n",
       "      <td>0</td>\n",
       "      <td>0</td>\n",
       "      <td>0</td>\n",
       "      <td>0</td>\n",
       "      <td>0</td>\n",
       "      <td>0</td>\n",
       "    </tr>\n",
       "    <tr>\n",
       "      <th>3</th>\n",
       "      <td>0</td>\n",
       "      <td>0</td>\n",
       "      <td>0</td>\n",
       "      <td>0</td>\n",
       "      <td>0</td>\n",
       "      <td>0</td>\n",
       "      <td>0</td>\n",
       "      <td>0</td>\n",
       "      <td>0</td>\n",
       "      <td>0</td>\n",
       "      <td>...</td>\n",
       "      <td>0</td>\n",
       "      <td>0</td>\n",
       "      <td>0</td>\n",
       "      <td>0</td>\n",
       "      <td>0</td>\n",
       "      <td>0</td>\n",
       "      <td>0</td>\n",
       "      <td>0</td>\n",
       "      <td>0</td>\n",
       "      <td>0</td>\n",
       "    </tr>\n",
       "    <tr>\n",
       "      <th>5</th>\n",
       "      <td>0</td>\n",
       "      <td>0</td>\n",
       "      <td>0</td>\n",
       "      <td>0</td>\n",
       "      <td>0</td>\n",
       "      <td>0</td>\n",
       "      <td>0</td>\n",
       "      <td>0</td>\n",
       "      <td>0</td>\n",
       "      <td>0</td>\n",
       "      <td>...</td>\n",
       "      <td>0</td>\n",
       "      <td>0</td>\n",
       "      <td>0</td>\n",
       "      <td>0</td>\n",
       "      <td>0</td>\n",
       "      <td>0</td>\n",
       "      <td>0</td>\n",
       "      <td>0</td>\n",
       "      <td>0</td>\n",
       "      <td>0</td>\n",
       "    </tr>\n",
       "    <tr>\n",
       "      <th>12</th>\n",
       "      <td>0</td>\n",
       "      <td>0</td>\n",
       "      <td>0</td>\n",
       "      <td>0</td>\n",
       "      <td>0</td>\n",
       "      <td>0</td>\n",
       "      <td>0</td>\n",
       "      <td>0</td>\n",
       "      <td>0</td>\n",
       "      <td>0</td>\n",
       "      <td>...</td>\n",
       "      <td>0</td>\n",
       "      <td>0</td>\n",
       "      <td>0</td>\n",
       "      <td>0</td>\n",
       "      <td>0</td>\n",
       "      <td>0</td>\n",
       "      <td>0</td>\n",
       "      <td>0</td>\n",
       "      <td>0</td>\n",
       "      <td>0</td>\n",
       "    </tr>\n",
       "  </tbody>\n",
       "</table>\n",
       "<p>5 rows × 116 columns</p>\n",
       "</div>"
      ],
      "text/plain": [
       "    ahmednagar  ashkona  baitulamanhousingsociety  bankcolony  banktown  \\\n",
       "0            0        0                         0           0         0   \n",
       "1            0        0                         0           0         0   \n",
       "3            0        0                         0           0         0   \n",
       "5            0        0                         0           0         0   \n",
       "12           0        0                         0           0         0   \n",
       "\n",
       "    bashabomadartekroad  blocka  blockb  blockc  blockd  ...  tajmahalroad  \\\n",
       "0                     0       0       0       0       0  ...             0   \n",
       "1                     0       0       0       0       0  ...             0   \n",
       "3                     0       0       0       0       0  ...             0   \n",
       "5                     0       0       0       0       0  ...             0   \n",
       "12                    0       0       0       0       0  ...             0   \n",
       "\n",
       "    taltola  tejkunipara  uttarbadda  wari  westagargaon  \\\n",
       "0         0            0           0     0             0   \n",
       "1         0            0           0     0             0   \n",
       "3         0            0           0     0             0   \n",
       "5         0            0           0     0             0   \n",
       "12        0            0           0     0             0   \n",
       "\n",
       "    westdhanmondiandshangkar  westkazipara  westrampura  westshewrapara  \n",
       "0                          0             0            0               0  \n",
       "1                          0             0            0               0  \n",
       "3                          0             0            0               0  \n",
       "5                          0             0            0               0  \n",
       "12                         0             0            0               0  \n",
       "\n",
       "[5 rows x 116 columns]"
      ]
     },
     "execution_count": 21,
     "metadata": {},
     "output_type": "execute_result"
    }
   ],
   "source": [
    "dummies = pd.get_dummies(df9.location)\n",
    "dummies.head()"
   ]
  },
  {
   "cell_type": "code",
   "execution_count": 22,
   "id": "07343069",
   "metadata": {},
   "outputs": [],
   "source": [
    "df10 = pd.concat([df9,dummies.drop('other',axis='columns')],axis='columns')"
   ]
  },
  {
   "cell_type": "code",
   "execution_count": 23,
   "id": "5a9a2f8e",
   "metadata": {},
   "outputs": [],
   "source": [
    "df10 = df10.drop('location',axis='columns')"
   ]
  },
  {
   "cell_type": "code",
   "execution_count": 24,
   "id": "13b9573c",
   "metadata": {},
   "outputs": [
    {
     "data": {
      "text/html": [
       "<div>\n",
       "<style scoped>\n",
       "    .dataframe tbody tr th:only-of-type {\n",
       "        vertical-align: middle;\n",
       "    }\n",
       "\n",
       "    .dataframe tbody tr th {\n",
       "        vertical-align: top;\n",
       "    }\n",
       "\n",
       "    .dataframe thead th {\n",
       "        text-align: right;\n",
       "    }\n",
       "</style>\n",
       "<table border=\"1\" class=\"dataframe\">\n",
       "  <thead>\n",
       "    <tr style=\"text-align: right;\">\n",
       "      <th></th>\n",
       "      <th>bedrooms</th>\n",
       "      <th>bath</th>\n",
       "      <th>size</th>\n",
       "      <th>ahmednagar</th>\n",
       "      <th>ashkona</th>\n",
       "      <th>baitulamanhousingsociety</th>\n",
       "      <th>bankcolony</th>\n",
       "      <th>banktown</th>\n",
       "      <th>bashabomadartekroad</th>\n",
       "      <th>blocka</th>\n",
       "      <th>...</th>\n",
       "      <th>tajmahalroad</th>\n",
       "      <th>taltola</th>\n",
       "      <th>tejkunipara</th>\n",
       "      <th>uttarbadda</th>\n",
       "      <th>wari</th>\n",
       "      <th>westagargaon</th>\n",
       "      <th>westdhanmondiandshangkar</th>\n",
       "      <th>westkazipara</th>\n",
       "      <th>westrampura</th>\n",
       "      <th>westshewrapara</th>\n",
       "    </tr>\n",
       "  </thead>\n",
       "  <tbody>\n",
       "    <tr>\n",
       "      <th>0</th>\n",
       "      <td>3.0</td>\n",
       "      <td>2.0</td>\n",
       "      <td>1750</td>\n",
       "      <td>0</td>\n",
       "      <td>0</td>\n",
       "      <td>0</td>\n",
       "      <td>0</td>\n",
       "      <td>0</td>\n",
       "      <td>0</td>\n",
       "      <td>0</td>\n",
       "      <td>...</td>\n",
       "      <td>0</td>\n",
       "      <td>0</td>\n",
       "      <td>0</td>\n",
       "      <td>0</td>\n",
       "      <td>0</td>\n",
       "      <td>0</td>\n",
       "      <td>0</td>\n",
       "      <td>0</td>\n",
       "      <td>0</td>\n",
       "      <td>0</td>\n",
       "    </tr>\n",
       "    <tr>\n",
       "      <th>1</th>\n",
       "      <td>3.0</td>\n",
       "      <td>2.0</td>\n",
       "      <td>1615</td>\n",
       "      <td>0</td>\n",
       "      <td>0</td>\n",
       "      <td>0</td>\n",
       "      <td>0</td>\n",
       "      <td>0</td>\n",
       "      <td>0</td>\n",
       "      <td>0</td>\n",
       "      <td>...</td>\n",
       "      <td>0</td>\n",
       "      <td>0</td>\n",
       "      <td>0</td>\n",
       "      <td>0</td>\n",
       "      <td>0</td>\n",
       "      <td>0</td>\n",
       "      <td>0</td>\n",
       "      <td>0</td>\n",
       "      <td>0</td>\n",
       "      <td>0</td>\n",
       "    </tr>\n",
       "    <tr>\n",
       "      <th>3</th>\n",
       "      <td>2.0</td>\n",
       "      <td>2.0</td>\n",
       "      <td>807</td>\n",
       "      <td>0</td>\n",
       "      <td>0</td>\n",
       "      <td>0</td>\n",
       "      <td>0</td>\n",
       "      <td>0</td>\n",
       "      <td>0</td>\n",
       "      <td>0</td>\n",
       "      <td>...</td>\n",
       "      <td>0</td>\n",
       "      <td>0</td>\n",
       "      <td>0</td>\n",
       "      <td>0</td>\n",
       "      <td>0</td>\n",
       "      <td>0</td>\n",
       "      <td>0</td>\n",
       "      <td>0</td>\n",
       "      <td>0</td>\n",
       "      <td>0</td>\n",
       "    </tr>\n",
       "  </tbody>\n",
       "</table>\n",
       "<p>3 rows × 118 columns</p>\n",
       "</div>"
      ],
      "text/plain": [
       "   bedrooms  bath  size  ahmednagar  ashkona  baitulamanhousingsociety  \\\n",
       "0       3.0   2.0  1750           0        0                         0   \n",
       "1       3.0   2.0  1615           0        0                         0   \n",
       "3       2.0   2.0   807           0        0                         0   \n",
       "\n",
       "   bankcolony  banktown  bashabomadartekroad  blocka  ...  tajmahalroad  \\\n",
       "0           0         0                    0       0  ...             0   \n",
       "1           0         0                    0       0  ...             0   \n",
       "3           0         0                    0       0  ...             0   \n",
       "\n",
       "   taltola  tejkunipara  uttarbadda  wari  westagargaon  \\\n",
       "0        0            0           0     0             0   \n",
       "1        0            0           0     0             0   \n",
       "3        0            0           0     0             0   \n",
       "\n",
       "   westdhanmondiandshangkar  westkazipara  westrampura  westshewrapara  \n",
       "0                         0             0            0               0  \n",
       "1                         0             0            0               0  \n",
       "3                         0             0            0               0  \n",
       "\n",
       "[3 rows x 118 columns]"
      ]
     },
     "execution_count": 24,
     "metadata": {},
     "output_type": "execute_result"
    }
   ],
   "source": [
    "X = df10.drop(['price'],axis='columns')\n",
    "X.head(3)"
   ]
  },
  {
   "cell_type": "code",
   "execution_count": 25,
   "id": "400342ba",
   "metadata": {},
   "outputs": [
    {
     "data": {
      "text/plain": [
       "0    9500000\n",
       "1    9500000\n",
       "3    5200000\n",
       "Name: price, dtype: int64"
      ]
     },
     "execution_count": 25,
     "metadata": {},
     "output_type": "execute_result"
    }
   ],
   "source": [
    "y = df10.price\n",
    "y.head(3)"
   ]
  },
  {
   "cell_type": "code",
   "execution_count": 26,
   "id": "795c5b14",
   "metadata": {},
   "outputs": [],
   "source": [
    "from sklearn.model_selection import train_test_split\n",
    "X_train, X_test, y_train, y_test = train_test_split(X,y,test_size=0.2,random_state=42)"
   ]
  },
  {
   "cell_type": "code",
   "execution_count": 27,
   "id": "c5ed3ff0",
   "metadata": {},
   "outputs": [
    {
     "data": {
      "text/plain": [
       "0.7817663207789085"
      ]
     },
     "execution_count": 27,
     "metadata": {},
     "output_type": "execute_result"
    }
   ],
   "source": [
    "from sklearn.linear_model import LinearRegression\n",
    "lr_clf = LinearRegression()\n",
    "lr_clf.fit(X_train,y_train)\n",
    "lr_clf.score(X_test,y_test)"
   ]
  },
  {
   "cell_type": "code",
   "execution_count": 28,
   "id": "8f0cf254",
   "metadata": {},
   "outputs": [
    {
     "data": {
      "text/plain": [
       "array([0.76964946, 0.78167897, 0.75893035, 0.78794934, 0.78998084])"
      ]
     },
     "execution_count": 28,
     "metadata": {},
     "output_type": "execute_result"
    }
   ],
   "source": [
    "from sklearn.model_selection import ShuffleSplit\n",
    "from sklearn.model_selection import cross_val_score\n",
    "\n",
    "cv = ShuffleSplit(n_splits=5, test_size=0.2, random_state=0)\n",
    "\n",
    "cross_val_score(LinearRegression(), X, y, cv=cv)"
   ]
  },
  {
   "cell_type": "code",
   "execution_count": 29,
   "id": "a6537601",
   "metadata": {},
   "outputs": [
    {
     "data": {
      "text/html": [
       "<div>\n",
       "<style scoped>\n",
       "    .dataframe tbody tr th:only-of-type {\n",
       "        vertical-align: middle;\n",
       "    }\n",
       "\n",
       "    .dataframe tbody tr th {\n",
       "        vertical-align: top;\n",
       "    }\n",
       "\n",
       "    .dataframe thead th {\n",
       "        text-align: right;\n",
       "    }\n",
       "</style>\n",
       "<table border=\"1\" class=\"dataframe\">\n",
       "  <thead>\n",
       "    <tr style=\"text-align: right;\">\n",
       "      <th></th>\n",
       "      <th>model</th>\n",
       "      <th>best_score</th>\n",
       "      <th>best_params</th>\n",
       "    </tr>\n",
       "  </thead>\n",
       "  <tbody>\n",
       "    <tr>\n",
       "      <th>0</th>\n",
       "      <td>linear_regression</td>\n",
       "      <td>0.777638</td>\n",
       "      <td>{'normalize': True}</td>\n",
       "    </tr>\n",
       "    <tr>\n",
       "      <th>1</th>\n",
       "      <td>lasso</td>\n",
       "      <td>0.777640</td>\n",
       "      <td>{'alpha': 2, 'selection': 'random'}</td>\n",
       "    </tr>\n",
       "    <tr>\n",
       "      <th>2</th>\n",
       "      <td>decision_tree</td>\n",
       "      <td>0.596896</td>\n",
       "      <td>{'criterion': 'mse', 'splitter': 'best'}</td>\n",
       "    </tr>\n",
       "  </tbody>\n",
       "</table>\n",
       "</div>"
      ],
      "text/plain": [
       "               model  best_score                               best_params\n",
       "0  linear_regression    0.777638                       {'normalize': True}\n",
       "1              lasso    0.777640       {'alpha': 2, 'selection': 'random'}\n",
       "2      decision_tree    0.596896  {'criterion': 'mse', 'splitter': 'best'}"
      ]
     },
     "execution_count": 29,
     "metadata": {},
     "output_type": "execute_result"
    }
   ],
   "source": [
    "from sklearn.model_selection import GridSearchCV\n",
    "\n",
    "from sklearn.linear_model import Lasso\n",
    "from sklearn.tree import DecisionTreeRegressor\n",
    "\n",
    "def find_best_model_using_gridsearchcv(X,y):\n",
    "    algos = {\n",
    "        'linear_regression' : {\n",
    "            'model': LinearRegression(),\n",
    "            'params': {\n",
    "                'normalize': [True, False]\n",
    "            }\n",
    "        },\n",
    "        'lasso': {\n",
    "            'model': Lasso(),\n",
    "            'params': {\n",
    "                'alpha': [1,2],\n",
    "                'selection': ['random', 'cyclic']\n",
    "            }\n",
    "        },\n",
    "        'decision_tree': {\n",
    "            'model': DecisionTreeRegressor(),\n",
    "            'params': {\n",
    "                'criterion' : ['mse','friedman_mse'],\n",
    "                'splitter': ['best','random']\n",
    "            }\n",
    "        }\n",
    "    }\n",
    "    scores = []\n",
    "    cv = ShuffleSplit(n_splits=5, test_size=0.2, random_state=0)\n",
    "    for algo_name, config in algos.items():\n",
    "        gs =  GridSearchCV(config['model'], config['params'], cv=cv, return_train_score=False)\n",
    "        gs.fit(X,y)\n",
    "        scores.append({\n",
    "            'model': algo_name,\n",
    "            'best_score': gs.best_score_,\n",
    "            'best_params': gs.best_params_\n",
    "        })\n",
    "\n",
    "    return pd.DataFrame(scores,columns=['model','best_score','best_params'])\n",
    "\n",
    "find_best_model_using_gridsearchcv(X,y)"
   ]
  },
  {
   "cell_type": "code",
   "execution_count": 30,
   "id": "da1ac8a9",
   "metadata": {},
   "outputs": [],
   "source": [
    "def predict_price(location,sqft,bath,bhk):    \n",
    "    loc_index = np.where(X.columns==location)[0][0]\n",
    "\n",
    "    x = np.zeros(len(X.columns))\n",
    "    x[0] = sqft\n",
    "    x[1] = bath\n",
    "    x[2] = bhk\n",
    "    if loc_index >= 0:\n",
    "        x[loc_index] = 1\n",
    "\n",
    "    return lr_clf.predict([x])[0]"
   ]
  },
  {
   "cell_type": "code",
   "execution_count": 31,
   "id": "8d73a47f",
   "metadata": {},
   "outputs": [
    {
     "data": {
      "text/plain": [
       "-1687872380.9166224"
      ]
     },
     "execution_count": 31,
     "metadata": {},
     "output_type": "execute_result"
    }
   ],
   "source": [
    "predict_price('sector10',1500, 2, 4)"
   ]
  },
  {
   "cell_type": "code",
   "execution_count": 35,
   "id": "a4fc6498",
   "metadata": {},
   "outputs": [
    {
     "data": {
      "text/plain": [
       "11258883.701031115"
      ]
     },
     "execution_count": 35,
     "metadata": {},
     "output_type": "execute_result"
    }
   ],
   "source": [
    "abs(predict_price('sector10',1000, 2, 2))/100"
   ]
  },
  {
   "cell_type": "code",
   "execution_count": 36,
   "id": "4511fd2e",
   "metadata": {},
   "outputs": [
    {
     "data": {
      "text/plain": [
       "22491653.913411044"
      ]
     },
     "execution_count": 36,
     "metadata": {},
     "output_type": "execute_result"
    }
   ],
   "source": [
    "abs(predict_price('sector10',2000, 4, 4))/100"
   ]
  },
  {
   "cell_type": "code",
   "execution_count": 38,
   "id": "d97a2d35",
   "metadata": {},
   "outputs": [
    {
     "data": {
      "text/plain": [
       "22471129.888000228"
      ]
     },
     "execution_count": 38,
     "metadata": {},
     "output_type": "execute_result"
    }
   ],
   "source": [
    "abs(predict_price('sector5',2000, 4, 4))/100"
   ]
  },
  {
   "cell_type": "code",
   "execution_count": 41,
   "id": "2cdf9d54",
   "metadata": {},
   "outputs": [
    {
     "data": {
      "text/plain": [
       "22503774.022382922"
      ]
     },
     "execution_count": 41,
     "metadata": {},
     "output_type": "execute_result"
    }
   ],
   "source": [
    "abs(predict_price('southmonipur',2000, 4, 4))/100"
   ]
  },
  {
   "cell_type": "code",
   "execution_count": 40,
   "id": "2bc23e25",
   "metadata": {},
   "outputs": [
    {
     "data": {
      "text/plain": [
       "array(['other', 'sector5', 'bochila', 'eastrampura', 'pirerbag',\n",
       "       'southmonipur', 'blockj', 'khilbaritek', 'nobodoyhousingsociety',\n",
       "       'merulbadda', 'blocke', 'southbanasreeproject', 'kallyanpur',\n",
       "       'roadno2', 'blocka', 'uttarbadda', 'middlemonipur', 'blockh',\n",
       "       'malibagbazarrd', 'northadabor', 'section2', 'eastkazipara',\n",
       "       'blockd', 'blockg', 'rayerbazaar', 'eastmonipur',\n",
       "       'baitulamanhousingsociety', 'sector3', 'roadno3',\n",
       "       'pcculturehousing', 'northbashabo', 'roadno4', 'section10',\n",
       "       'blockf', 'section1', 'ashkona', 'goran', 'monipuripara', 'blockc',\n",
       "       'meradia', 'greenroad', 'southbashabo', 'southkeraniganj',\n",
       "       'shahjadpur', 'ahmednagar', 'kadamtala', 'section6', 'southbadda',\n",
       "       'middlebadda', 'matikata', 'westdhanmondiandshangkar', 'sector6',\n",
       "       'pallabi', 'sector10', 'shiddheswarilane', 'blockb', 'section11',\n",
       "       'sector7', 'sector13', 'blocki', 'elephantroad', 'nayatola',\n",
       "       'mirpurdohs', 'middlepaikpara', 'eastshewrapara',\n",
       "       'southbaridhararesidentialarea', 'bashabomadartekroad',\n",
       "       'section15', 'lakecircusroad', 'mohammadihousingltd.', 'section12',\n",
       "       'manikdi', 'sector14', 'narinda', 'westagargaon', 'sector12',\n",
       "       'mansurabadhousingsociety', 'nurerchala', 'westshewrapara',\n",
       "       'dhakauddan', 'jigatola', 'madhyaajampur', 'sector11',\n",
       "       'sher-e-banglaroad', 'moushair', 'chandrimamodeltown',\n",
       "       'westrampura', 'roadno8a', 'wari', 'westkazipara', 'tejkunipara',\n",
       "       'rupnagarr/a', 'taltola', 'kutumgoli', 'gawair', 'sector4',\n",
       "       'banktown', 'shekhertek', 'faydabad', 'gulshan1',\n",
       "       'lakecityconcord', 'doniya', 'freeschoolstreet', 'darussalam',\n",
       "       'tajmahalroad', 'northkafrulrd', 'sector9', 'neweskatonroad',\n",
       "       'roadno5', 'southmollartek', 'bankcolony', 'northazampur',\n",
       "       'eastbashabo', 'konapara', 'southchalabon', 'moinartakroad'],\n",
       "      dtype=object)"
      ]
     },
     "execution_count": 40,
     "metadata": {},
     "output_type": "execute_result"
    }
   ],
   "source": [
    "df9['location'].unique()"
   ]
  },
  {
   "cell_type": "code",
   "execution_count": null,
   "id": "73b3a96e",
   "metadata": {},
   "outputs": [],
   "source": []
  }
 ],
 "metadata": {
  "kernelspec": {
   "display_name": "Python 3",
   "language": "python",
   "name": "python3"
  },
  "language_info": {
   "codemirror_mode": {
    "name": "ipython",
    "version": 3
   },
   "file_extension": ".py",
   "mimetype": "text/x-python",
   "name": "python",
   "nbconvert_exporter": "python",
   "pygments_lexer": "ipython3",
   "version": "3.8.8"
  }
 },
 "nbformat": 4,
 "nbformat_minor": 5
}
