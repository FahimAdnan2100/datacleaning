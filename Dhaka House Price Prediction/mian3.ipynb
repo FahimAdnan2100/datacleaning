{
 "cells": [
  {
   "cell_type": "code",
   "execution_count": 1,
   "id": "e634278a",
   "metadata": {},
   "outputs": [],
   "source": [
    "import pandas as pd\n",
    "import numpy as np\n",
    "from matplotlib import pyplot as plt\n",
    "%matplotlib inline\n",
    "import matplotlib\n",
    "matplotlib.rcParams[\"figure.figsize\"]=(20,10)\n",
    "import seaborn as sns"
   ]
  },
  {
   "cell_type": "code",
   "execution_count": 2,
   "id": "6758daaa",
   "metadata": {},
   "outputs": [],
   "source": [
    "df = pd.read_csv('data.csv')"
   ]
  },
  {
   "cell_type": "code",
   "execution_count": 3,
   "id": "4d981feb",
   "metadata": {},
   "outputs": [],
   "source": [
    "df2 = df.drop_duplicates()"
   ]
  },
  {
   "cell_type": "code",
   "execution_count": 4,
   "id": "1a87235d",
   "metadata": {},
   "outputs": [],
   "source": [
    "df3 = df2.fillna(3)"
   ]
  },
  {
   "cell_type": "code",
   "execution_count": 5,
   "id": "d132d775",
   "metadata": {},
   "outputs": [
    {
     "data": {
      "text/plain": [
       "(5904, 5)"
      ]
     },
     "execution_count": 5,
     "metadata": {},
     "output_type": "execute_result"
    }
   ],
   "source": [
    "df3.shape"
   ]
  },
  {
   "cell_type": "code",
   "execution_count": 6,
   "id": "ac0a646e",
   "metadata": {},
   "outputs": [],
   "source": [
    "df3['location'] = df3['location'].str.lower()\n",
    "df3['location'] = df3['location'].str.split(',',n=0,expand=True)"
   ]
  },
  {
   "cell_type": "code",
   "execution_count": 7,
   "id": "2ca16459",
   "metadata": {},
   "outputs": [
    {
     "data": {
      "text/html": [
       "<div>\n",
       "<style scoped>\n",
       "    .dataframe tbody tr th:only-of-type {\n",
       "        vertical-align: middle;\n",
       "    }\n",
       "\n",
       "    .dataframe tbody tr th {\n",
       "        vertical-align: top;\n",
       "    }\n",
       "\n",
       "    .dataframe thead th {\n",
       "        text-align: right;\n",
       "    }\n",
       "</style>\n",
       "<table border=\"1\" class=\"dataframe\">\n",
       "  <thead>\n",
       "    <tr style=\"text-align: right;\">\n",
       "      <th></th>\n",
       "      <th>location</th>\n",
       "      <th>bedrooms</th>\n",
       "      <th>bath</th>\n",
       "      <th>size</th>\n",
       "      <th>price</th>\n",
       "    </tr>\n",
       "  </thead>\n",
       "  <tbody>\n",
       "    <tr>\n",
       "      <th>0</th>\n",
       "      <td>motijheelextension</td>\n",
       "      <td>3.0</td>\n",
       "      <td>2.0</td>\n",
       "      <td>1750</td>\n",
       "      <td>9500000</td>\n",
       "    </tr>\n",
       "    <tr>\n",
       "      <th>1</th>\n",
       "      <td>motijheelextension</td>\n",
       "      <td>3.0</td>\n",
       "      <td>2.0</td>\n",
       "      <td>1615</td>\n",
       "      <td>9500000</td>\n",
       "    </tr>\n",
       "    <tr>\n",
       "      <th>3</th>\n",
       "      <td>sector5</td>\n",
       "      <td>2.0</td>\n",
       "      <td>2.0</td>\n",
       "      <td>807</td>\n",
       "      <td>5200000</td>\n",
       "    </tr>\n",
       "    <tr>\n",
       "      <th>4</th>\n",
       "      <td>blockg</td>\n",
       "      <td>4.0</td>\n",
       "      <td>4.0</td>\n",
       "      <td>3100</td>\n",
       "      <td>40000000</td>\n",
       "    </tr>\n",
       "    <tr>\n",
       "      <th>5</th>\n",
       "      <td>eastmaniknagar</td>\n",
       "      <td>3.0</td>\n",
       "      <td>3.0</td>\n",
       "      <td>1300</td>\n",
       "      <td>6600000</td>\n",
       "    </tr>\n",
       "    <tr>\n",
       "      <th>...</th>\n",
       "      <td>...</td>\n",
       "      <td>...</td>\n",
       "      <td>...</td>\n",
       "      <td>...</td>\n",
       "      <td>...</td>\n",
       "    </tr>\n",
       "    <tr>\n",
       "      <th>8715</th>\n",
       "      <td>middlepaikpara</td>\n",
       "      <td>3.0</td>\n",
       "      <td>2.0</td>\n",
       "      <td>1025</td>\n",
       "      <td>4000000</td>\n",
       "    </tr>\n",
       "    <tr>\n",
       "      <th>8716</th>\n",
       "      <td>sector13</td>\n",
       "      <td>4.0</td>\n",
       "      <td>4.0</td>\n",
       "      <td>3000</td>\n",
       "      <td>32500000</td>\n",
       "    </tr>\n",
       "    <tr>\n",
       "      <th>8717</th>\n",
       "      <td>blockf</td>\n",
       "      <td>3.0</td>\n",
       "      <td>4.0</td>\n",
       "      <td>1695</td>\n",
       "      <td>13500000</td>\n",
       "    </tr>\n",
       "    <tr>\n",
       "      <th>8718</th>\n",
       "      <td>section12</td>\n",
       "      <td>3.0</td>\n",
       "      <td>3.0</td>\n",
       "      <td>1150</td>\n",
       "      <td>4500000</td>\n",
       "    </tr>\n",
       "    <tr>\n",
       "      <th>8719</th>\n",
       "      <td>sector9</td>\n",
       "      <td>3.0</td>\n",
       "      <td>3.0</td>\n",
       "      <td>1550</td>\n",
       "      <td>11500000</td>\n",
       "    </tr>\n",
       "  </tbody>\n",
       "</table>\n",
       "<p>5904 rows × 5 columns</p>\n",
       "</div>"
      ],
      "text/plain": [
       "                location  bedrooms  bath  size     price\n",
       "0     motijheelextension       3.0   2.0  1750   9500000\n",
       "1     motijheelextension       3.0   2.0  1615   9500000\n",
       "3                sector5       2.0   2.0   807   5200000\n",
       "4                 blockg       4.0   4.0  3100  40000000\n",
       "5         eastmaniknagar       3.0   3.0  1300   6600000\n",
       "...                  ...       ...   ...   ...       ...\n",
       "8715      middlepaikpara       3.0   2.0  1025   4000000\n",
       "8716            sector13       4.0   4.0  3000  32500000\n",
       "8717              blockf       3.0   4.0  1695  13500000\n",
       "8718           section12       3.0   3.0  1150   4500000\n",
       "8719             sector9       3.0   3.0  1550  11500000\n",
       "\n",
       "[5904 rows x 5 columns]"
      ]
     },
     "execution_count": 7,
     "metadata": {},
     "output_type": "execute_result"
    }
   ],
   "source": [
    "df3"
   ]
  },
  {
   "cell_type": "code",
   "execution_count": 8,
   "id": "424060e0",
   "metadata": {},
   "outputs": [],
   "source": [
    "df4 = df3.copy()"
   ]
  },
  {
   "cell_type": "code",
   "execution_count": 9,
   "id": "381f20e9",
   "metadata": {},
   "outputs": [
    {
     "data": {
      "text/plain": [
       "(5904, 5)"
      ]
     },
     "execution_count": 9,
     "metadata": {},
     "output_type": "execute_result"
    }
   ],
   "source": [
    "df4.shape"
   ]
  },
  {
   "cell_type": "code",
   "execution_count": 10,
   "id": "0c8a0ed0",
   "metadata": {},
   "outputs": [],
   "source": [
    "df5 = df4[df4['bedrooms']<20]"
   ]
  },
  {
   "cell_type": "code",
   "execution_count": 11,
   "id": "8aef90ed",
   "metadata": {},
   "outputs": [
    {
     "data": {
      "text/plain": [
       "(5878, 5)"
      ]
     },
     "execution_count": 11,
     "metadata": {},
     "output_type": "execute_result"
    }
   ],
   "source": [
    "df5.shape"
   ]
  },
  {
   "cell_type": "code",
   "execution_count": 12,
   "id": "c61fdd1f",
   "metadata": {},
   "outputs": [],
   "source": [
    "df6 = df5[df5['bath']<20]"
   ]
  },
  {
   "cell_type": "code",
   "execution_count": 13,
   "id": "edc7f3d9",
   "metadata": {},
   "outputs": [
    {
     "data": {
      "text/plain": [
       "(5878, 5)"
      ]
     },
     "execution_count": 13,
     "metadata": {},
     "output_type": "execute_result"
    }
   ],
   "source": [
    "df6.shape"
   ]
  },
  {
   "cell_type": "code",
   "execution_count": 48,
   "id": "a66dcd5f",
   "metadata": {},
   "outputs": [],
   "source": [
    "df7 = df6[df6['size']<3500]"
   ]
  },
  {
   "cell_type": "code",
   "execution_count": 49,
   "id": "ac460023",
   "metadata": {},
   "outputs": [
    {
     "data": {
      "text/plain": [
       "(5627, 5)"
      ]
     },
     "execution_count": 49,
     "metadata": {},
     "output_type": "execute_result"
    }
   ],
   "source": [
    "df7.shape"
   ]
  },
  {
   "cell_type": "code",
   "execution_count": 50,
   "id": "234a3f8d",
   "metadata": {},
   "outputs": [],
   "source": [
    "df8 = df7[df7['size']>300]"
   ]
  },
  {
   "cell_type": "code",
   "execution_count": 51,
   "id": "7ffa636e",
   "metadata": {},
   "outputs": [
    {
     "data": {
      "text/plain": [
       "(5620, 5)"
      ]
     },
     "execution_count": 51,
     "metadata": {},
     "output_type": "execute_result"
    }
   ],
   "source": [
    "df8.shape"
   ]
  },
  {
   "cell_type": "code",
   "execution_count": 52,
   "id": "70e8a291",
   "metadata": {},
   "outputs": [],
   "source": [
    "df9 = df8[df8['price']<30000000]"
   ]
  },
  {
   "cell_type": "code",
   "execution_count": 53,
   "id": "f718519e",
   "metadata": {},
   "outputs": [
    {
     "data": {
      "text/plain": [
       "(5371, 5)"
      ]
     },
     "execution_count": 53,
     "metadata": {},
     "output_type": "execute_result"
    }
   ],
   "source": [
    "df9.shape"
   ]
  },
  {
   "cell_type": "code",
   "execution_count": 54,
   "id": "0206f967",
   "metadata": {},
   "outputs": [
    {
     "data": {
      "text/plain": [
       "<seaborn.axisgrid.PairGrid at 0x2ddc873aa30>"
      ]
     },
     "execution_count": 54,
     "metadata": {},
     "output_type": "execute_result"
    },
    {
     "data": {
      "image/png": "[encoded data removed]",
      "text/plain": [
       "<Figure size 720x720 with 20 Axes>"
      ]
     },
     "metadata": {
      "needs_background": "light"
     },
     "output_type": "display_data"
    }
   ],
   "source": [
    "sns.pairplot(df9)"
   ]
  },
  {
   "cell_type": "code",
   "execution_count": 55,
   "id": "8470b7b6",
   "metadata": {},
   "outputs": [
    {
     "data": {
      "text/plain": [
       "location\n",
       "sector10     178\n",
       "pallabi      140\n",
       "ashkona      102\n",
       "section12    102\n",
       "blockf        98\n",
       "Name: location, dtype: int64"
      ]
     },
     "execution_count": 55,
     "metadata": {},
     "output_type": "execute_result"
    }
   ],
   "source": [
    "location_stats = df9.groupby('location')['location'].agg('count').sort_values(ascending=False)\n",
    "location_stats.head()"
   ]
  },
  {
   "cell_type": "code",
   "execution_count": 56,
   "id": "d89d8d8a",
   "metadata": {},
   "outputs": [
    {
     "data": {
      "text/plain": [
       "location\n",
       "taliofficeroad                 10\n",
       "shahkabirmazarroad             10\n",
       "dakhshinpara                   10\n",
       "shyamolihousing(2ndproject)    10\n",
       "nurjahanroad                   10\n",
       "Name: location, dtype: int64"
      ]
     },
     "execution_count": 56,
     "metadata": {},
     "output_type": "execute_result"
    }
   ],
   "source": [
    "location_stats_less_than_10 = location_stats[location_stats<=10]\n",
    "location_stats_less_than_10.head()"
   ]
  },
  {
   "cell_type": "code",
   "execution_count": 57,
   "id": "868ed43c",
   "metadata": {},
   "outputs": [
    {
     "name": "stderr",
     "output_type": "stream",
     "text": [
      "C:\\Users\\fahim\\anaconda3\\lib\\site-packages\\pandas\\core\\generic.py:5494: SettingWithCopyWarning: \n",
      "A value is trying to be set on a copy of a slice from a DataFrame.\n",
      "Try using .loc[row_indexer,col_indexer] = value instead\n",
      "\n",
      "See the caveats in the documentation: https://pandas.pydata.org/pandas-docs/stable/user_guide/indexing.html#returning-a-view-versus-a-copy\n",
      "  self[name] = value\n"
     ]
    },
    {
     "data": {
      "text/plain": [
       "119"
      ]
     },
     "execution_count": 57,
     "metadata": {},
     "output_type": "execute_result"
    }
   ],
   "source": [
    "df9.location=df9.location.apply(lambda x: 'other' if x in location_stats_less_than_10 else x)\n",
    "len(df9.location.unique())"
   ]
  },
  {
   "cell_type": "code",
   "execution_count": 58,
   "id": "134569dc",
   "metadata": {},
   "outputs": [
    {
     "data": {
      "text/html": [
       "<div>\n",
       "<style scoped>\n",
       "    .dataframe tbody tr th:only-of-type {\n",
       "        vertical-align: middle;\n",
       "    }\n",
       "\n",
       "    .dataframe tbody tr th {\n",
       "        vertical-align: top;\n",
       "    }\n",
       "\n",
       "    .dataframe thead th {\n",
       "        text-align: right;\n",
       "    }\n",
       "</style>\n",
       "<table border=\"1\" class=\"dataframe\">\n",
       "  <thead>\n",
       "    <tr style=\"text-align: right;\">\n",
       "      <th></th>\n",
       "      <th>ahmednagar</th>\n",
       "      <th>ashkona</th>\n",
       "      <th>ashulia</th>\n",
       "      <th>atibazar</th>\n",
       "      <th>baitulamanhousingsociety</th>\n",
       "      <th>bankcolony</th>\n",
       "      <th>banktown</th>\n",
       "      <th>bashabomadartekroad</th>\n",
       "      <th>blocka</th>\n",
       "      <th>blockb</th>\n",
       "      <th>...</th>\n",
       "      <th>tajmahalroad</th>\n",
       "      <th>taltola</th>\n",
       "      <th>tejkunipara</th>\n",
       "      <th>uttarbadda</th>\n",
       "      <th>wari</th>\n",
       "      <th>westagargaon</th>\n",
       "      <th>westdhanmondiandshangkar</th>\n",
       "      <th>westkazipara</th>\n",
       "      <th>westrampura</th>\n",
       "      <th>westshewrapara</th>\n",
       "    </tr>\n",
       "  </thead>\n",
       "  <tbody>\n",
       "    <tr>\n",
       "      <th>0</th>\n",
       "      <td>0</td>\n",
       "      <td>0</td>\n",
       "      <td>0</td>\n",
       "      <td>0</td>\n",
       "      <td>0</td>\n",
       "      <td>0</td>\n",
       "      <td>0</td>\n",
       "      <td>0</td>\n",
       "      <td>0</td>\n",
       "      <td>0</td>\n",
       "      <td>...</td>\n",
       "      <td>0</td>\n",
       "      <td>0</td>\n",
       "      <td>0</td>\n",
       "      <td>0</td>\n",
       "      <td>0</td>\n",
       "      <td>0</td>\n",
       "      <td>0</td>\n",
       "      <td>0</td>\n",
       "      <td>0</td>\n",
       "      <td>0</td>\n",
       "    </tr>\n",
       "    <tr>\n",
       "      <th>1</th>\n",
       "      <td>0</td>\n",
       "      <td>0</td>\n",
       "      <td>0</td>\n",
       "      <td>0</td>\n",
       "      <td>0</td>\n",
       "      <td>0</td>\n",
       "      <td>0</td>\n",
       "      <td>0</td>\n",
       "      <td>0</td>\n",
       "      <td>0</td>\n",
       "      <td>...</td>\n",
       "      <td>0</td>\n",
       "      <td>0</td>\n",
       "      <td>0</td>\n",
       "      <td>0</td>\n",
       "      <td>0</td>\n",
       "      <td>0</td>\n",
       "      <td>0</td>\n",
       "      <td>0</td>\n",
       "      <td>0</td>\n",
       "      <td>0</td>\n",
       "    </tr>\n",
       "    <tr>\n",
       "      <th>3</th>\n",
       "      <td>0</td>\n",
       "      <td>0</td>\n",
       "      <td>0</td>\n",
       "      <td>0</td>\n",
       "      <td>0</td>\n",
       "      <td>0</td>\n",
       "      <td>0</td>\n",
       "      <td>0</td>\n",
       "      <td>0</td>\n",
       "      <td>0</td>\n",
       "      <td>...</td>\n",
       "      <td>0</td>\n",
       "      <td>0</td>\n",
       "      <td>0</td>\n",
       "      <td>0</td>\n",
       "      <td>0</td>\n",
       "      <td>0</td>\n",
       "      <td>0</td>\n",
       "      <td>0</td>\n",
       "      <td>0</td>\n",
       "      <td>0</td>\n",
       "    </tr>\n",
       "    <tr>\n",
       "      <th>5</th>\n",
       "      <td>0</td>\n",
       "      <td>0</td>\n",
       "      <td>0</td>\n",
       "      <td>0</td>\n",
       "      <td>0</td>\n",
       "      <td>0</td>\n",
       "      <td>0</td>\n",
       "      <td>0</td>\n",
       "      <td>0</td>\n",
       "      <td>0</td>\n",
       "      <td>...</td>\n",
       "      <td>0</td>\n",
       "      <td>0</td>\n",
       "      <td>0</td>\n",
       "      <td>0</td>\n",
       "      <td>0</td>\n",
       "      <td>0</td>\n",
       "      <td>0</td>\n",
       "      <td>0</td>\n",
       "      <td>0</td>\n",
       "      <td>0</td>\n",
       "    </tr>\n",
       "    <tr>\n",
       "      <th>12</th>\n",
       "      <td>0</td>\n",
       "      <td>0</td>\n",
       "      <td>0</td>\n",
       "      <td>0</td>\n",
       "      <td>0</td>\n",
       "      <td>0</td>\n",
       "      <td>0</td>\n",
       "      <td>0</td>\n",
       "      <td>0</td>\n",
       "      <td>0</td>\n",
       "      <td>...</td>\n",
       "      <td>0</td>\n",
       "      <td>0</td>\n",
       "      <td>0</td>\n",
       "      <td>0</td>\n",
       "      <td>0</td>\n",
       "      <td>0</td>\n",
       "      <td>0</td>\n",
       "      <td>0</td>\n",
       "      <td>0</td>\n",
       "      <td>0</td>\n",
       "    </tr>\n",
       "  </tbody>\n",
       "</table>\n",
       "<p>5 rows × 119 columns</p>\n",
       "</div>"
      ],
      "text/plain": [
       "    ahmednagar  ashkona  ashulia  atibazar  baitulamanhousingsociety  \\\n",
       "0            0        0        0         0                         0   \n",
       "1            0        0        0         0                         0   \n",
       "3            0        0        0         0                         0   \n",
       "5            0        0        0         0                         0   \n",
       "12           0        0        0         0                         0   \n",
       "\n",
       "    bankcolony  banktown  bashabomadartekroad  blocka  blockb  ...  \\\n",
       "0            0         0                    0       0       0  ...   \n",
       "1            0         0                    0       0       0  ...   \n",
       "3            0         0                    0       0       0  ...   \n",
       "5            0         0                    0       0       0  ...   \n",
       "12           0         0                    0       0       0  ...   \n",
       "\n",
       "    tajmahalroad  taltola  tejkunipara  uttarbadda  wari  westagargaon  \\\n",
       "0              0        0            0           0     0             0   \n",
       "1              0        0            0           0     0             0   \n",
       "3              0        0            0           0     0             0   \n",
       "5              0        0            0           0     0             0   \n",
       "12             0        0            0           0     0             0   \n",
       "\n",
       "    westdhanmondiandshangkar  westkazipara  westrampura  westshewrapara  \n",
       "0                          0             0            0               0  \n",
       "1                          0             0            0               0  \n",
       "3                          0             0            0               0  \n",
       "5                          0             0            0               0  \n",
       "12                         0             0            0               0  \n",
       "\n",
       "[5 rows x 119 columns]"
      ]
     },
     "execution_count": 58,
     "metadata": {},
     "output_type": "execute_result"
    }
   ],
   "source": [
    "dummies = pd.get_dummies(df9.location)\n",
    "dummies.head()"
   ]
  },
  {
   "cell_type": "code",
   "execution_count": 59,
   "id": "8e4cb0bf",
   "metadata": {},
   "outputs": [],
   "source": [
    "df10 = pd.concat([df9,dummies.drop('other',axis='columns')],axis='columns')"
   ]
  },
  {
   "cell_type": "code",
   "execution_count": 60,
   "id": "1a1f6a7d",
   "metadata": {},
   "outputs": [],
   "source": [
    "df10 = df10.drop('location',axis='columns')"
   ]
  },
  {
   "cell_type": "code",
   "execution_count": 61,
   "id": "d1c7b565",
   "metadata": {},
   "outputs": [
    {
     "data": {
      "text/html": [
       "<div>\n",
       "<style scoped>\n",
       "    .dataframe tbody tr th:only-of-type {\n",
       "        vertical-align: middle;\n",
       "    }\n",
       "\n",
       "    .dataframe tbody tr th {\n",
       "        vertical-align: top;\n",
       "    }\n",
       "\n",
       "    .dataframe thead th {\n",
       "        text-align: right;\n",
       "    }\n",
       "</style>\n",
       "<table border=\"1\" class=\"dataframe\">\n",
       "  <thead>\n",
       "    <tr style=\"text-align: right;\">\n",
       "      <th></th>\n",
       "      <th>bedrooms</th>\n",
       "      <th>bath</th>\n",
       "      <th>size</th>\n",
       "      <th>ahmednagar</th>\n",
       "      <th>ashkona</th>\n",
       "      <th>ashulia</th>\n",
       "      <th>atibazar</th>\n",
       "      <th>baitulamanhousingsociety</th>\n",
       "      <th>bankcolony</th>\n",
       "      <th>banktown</th>\n",
       "      <th>...</th>\n",
       "      <th>tajmahalroad</th>\n",
       "      <th>taltola</th>\n",
       "      <th>tejkunipara</th>\n",
       "      <th>uttarbadda</th>\n",
       "      <th>wari</th>\n",
       "      <th>westagargaon</th>\n",
       "      <th>westdhanmondiandshangkar</th>\n",
       "      <th>westkazipara</th>\n",
       "      <th>westrampura</th>\n",
       "      <th>westshewrapara</th>\n",
       "    </tr>\n",
       "  </thead>\n",
       "  <tbody>\n",
       "    <tr>\n",
       "      <th>0</th>\n",
       "      <td>3.0</td>\n",
       "      <td>2.0</td>\n",
       "      <td>1750</td>\n",
       "      <td>0</td>\n",
       "      <td>0</td>\n",
       "      <td>0</td>\n",
       "      <td>0</td>\n",
       "      <td>0</td>\n",
       "      <td>0</td>\n",
       "      <td>0</td>\n",
       "      <td>...</td>\n",
       "      <td>0</td>\n",
       "      <td>0</td>\n",
       "      <td>0</td>\n",
       "      <td>0</td>\n",
       "      <td>0</td>\n",
       "      <td>0</td>\n",
       "      <td>0</td>\n",
       "      <td>0</td>\n",
       "      <td>0</td>\n",
       "      <td>0</td>\n",
       "    </tr>\n",
       "    <tr>\n",
       "      <th>1</th>\n",
       "      <td>3.0</td>\n",
       "      <td>2.0</td>\n",
       "      <td>1615</td>\n",
       "      <td>0</td>\n",
       "      <td>0</td>\n",
       "      <td>0</td>\n",
       "      <td>0</td>\n",
       "      <td>0</td>\n",
       "      <td>0</td>\n",
       "      <td>0</td>\n",
       "      <td>...</td>\n",
       "      <td>0</td>\n",
       "      <td>0</td>\n",
       "      <td>0</td>\n",
       "      <td>0</td>\n",
       "      <td>0</td>\n",
       "      <td>0</td>\n",
       "      <td>0</td>\n",
       "      <td>0</td>\n",
       "      <td>0</td>\n",
       "      <td>0</td>\n",
       "    </tr>\n",
       "    <tr>\n",
       "      <th>3</th>\n",
       "      <td>2.0</td>\n",
       "      <td>2.0</td>\n",
       "      <td>807</td>\n",
       "      <td>0</td>\n",
       "      <td>0</td>\n",
       "      <td>0</td>\n",
       "      <td>0</td>\n",
       "      <td>0</td>\n",
       "      <td>0</td>\n",
       "      <td>0</td>\n",
       "      <td>...</td>\n",
       "      <td>0</td>\n",
       "      <td>0</td>\n",
       "      <td>0</td>\n",
       "      <td>0</td>\n",
       "      <td>0</td>\n",
       "      <td>0</td>\n",
       "      <td>0</td>\n",
       "      <td>0</td>\n",
       "      <td>0</td>\n",
       "      <td>0</td>\n",
       "    </tr>\n",
       "  </tbody>\n",
       "</table>\n",
       "<p>3 rows × 121 columns</p>\n",
       "</div>"
      ],
      "text/plain": [
       "   bedrooms  bath  size  ahmednagar  ashkona  ashulia  atibazar  \\\n",
       "0       3.0   2.0  1750           0        0        0         0   \n",
       "1       3.0   2.0  1615           0        0        0         0   \n",
       "3       2.0   2.0   807           0        0        0         0   \n",
       "\n",
       "   baitulamanhousingsociety  bankcolony  banktown  ...  tajmahalroad  taltola  \\\n",
       "0                         0           0         0  ...             0        0   \n",
       "1                         0           0         0  ...             0        0   \n",
       "3                         0           0         0  ...             0        0   \n",
       "\n",
       "   tejkunipara  uttarbadda  wari  westagargaon  westdhanmondiandshangkar  \\\n",
       "0            0           0     0             0                         0   \n",
       "1            0           0     0             0                         0   \n",
       "3            0           0     0             0                         0   \n",
       "\n",
       "   westkazipara  westrampura  westshewrapara  \n",
       "0             0            0               0  \n",
       "1             0            0               0  \n",
       "3             0            0               0  \n",
       "\n",
       "[3 rows x 121 columns]"
      ]
     },
     "execution_count": 61,
     "metadata": {},
     "output_type": "execute_result"
    }
   ],
   "source": [
    "X = df10.drop(['price'],axis='columns')\n",
    "X.head(3)"
   ]
  },
  {
   "cell_type": "code",
   "execution_count": 62,
   "id": "603d8ba9",
   "metadata": {},
   "outputs": [
    {
     "data": {
      "text/plain": [
       "0    9500000\n",
       "1    9500000\n",
       "3    5200000\n",
       "Name: price, dtype: int64"
      ]
     },
     "execution_count": 62,
     "metadata": {},
     "output_type": "execute_result"
    }
   ],
   "source": [
    "y = df10.price\n",
    "y.head(3)"
   ]
  },
  {
   "cell_type": "code",
   "execution_count": 63,
   "id": "34793a11",
   "metadata": {},
   "outputs": [],
   "source": [
    "from sklearn.model_selection import train_test_split\n",
    "X_train, X_test, y_train, y_test = train_test_split(X,y,test_size=0.2,random_state=42)"
   ]
  },
  {
   "cell_type": "code",
   "execution_count": 64,
   "id": "59d50c78",
   "metadata": {},
   "outputs": [
    {
     "data": {
      "text/plain": [
       "0.7474150781422635"
      ]
     },
     "execution_count": 64,
     "metadata": {},
     "output_type": "execute_result"
    }
   ],
   "source": [
    "from sklearn.linear_model import LinearRegression\n",
    "lr_clf = LinearRegression()\n",
    "lr_clf.fit(X_train,y_train)\n",
    "lr_clf.score(X_test,y_test)"
   ]
  },
  {
   "cell_type": "code",
   "execution_count": 65,
   "id": "938e4dc5",
   "metadata": {},
   "outputs": [
    {
     "data": {
      "text/plain": [
       "array([0.73488034, 0.74422344, 0.76417867, 0.73020748, 0.70052698])"
      ]
     },
     "execution_count": 65,
     "metadata": {},
     "output_type": "execute_result"
    }
   ],
   "source": [
    "from sklearn.model_selection import ShuffleSplit\n",
    "from sklearn.model_selection import cross_val_score\n",
    "\n",
    "cv = ShuffleSplit(n_splits=5, test_size=0.2, random_state=0)\n",
    "\n",
    "cross_val_score(LinearRegression(), X, y, cv=cv)"
   ]
  },
  {
   "cell_type": "code",
   "execution_count": 66,
   "id": "ef91dff0",
   "metadata": {},
   "outputs": [
    {
     "data": {
      "text/html": [
       "<div>\n",
       "<style scoped>\n",
       "    .dataframe tbody tr th:only-of-type {\n",
       "        vertical-align: middle;\n",
       "    }\n",
       "\n",
       "    .dataframe tbody tr th {\n",
       "        vertical-align: top;\n",
       "    }\n",
       "\n",
       "    .dataframe thead th {\n",
       "        text-align: right;\n",
       "    }\n",
       "</style>\n",
       "<table border=\"1\" class=\"dataframe\">\n",
       "  <thead>\n",
       "    <tr style=\"text-align: right;\">\n",
       "      <th></th>\n",
       "      <th>model</th>\n",
       "      <th>best_score</th>\n",
       "      <th>best_params</th>\n",
       "    </tr>\n",
       "  </thead>\n",
       "  <tbody>\n",
       "    <tr>\n",
       "      <th>0</th>\n",
       "      <td>linear_regression</td>\n",
       "      <td>0.734803</td>\n",
       "      <td>{'normalize': True}</td>\n",
       "    </tr>\n",
       "    <tr>\n",
       "      <th>1</th>\n",
       "      <td>lasso</td>\n",
       "      <td>0.734804</td>\n",
       "      <td>{'alpha': 2, 'selection': 'cyclic'}</td>\n",
       "    </tr>\n",
       "    <tr>\n",
       "      <th>2</th>\n",
       "      <td>decision_tree</td>\n",
       "      <td>0.541566</td>\n",
       "      <td>{'criterion': 'mse', 'splitter': 'random'}</td>\n",
       "    </tr>\n",
       "  </tbody>\n",
       "</table>\n",
       "</div>"
      ],
      "text/plain": [
       "               model  best_score                                 best_params\n",
       "0  linear_regression    0.734803                         {'normalize': True}\n",
       "1              lasso    0.734804         {'alpha': 2, 'selection': 'cyclic'}\n",
       "2      decision_tree    0.541566  {'criterion': 'mse', 'splitter': 'random'}"
      ]
     },
     "execution_count": 66,
     "metadata": {},
     "output_type": "execute_result"
    }
   ],
   "source": [
    "from sklearn.model_selection import GridSearchCV\n",
    "\n",
    "from sklearn.linear_model import Lasso\n",
    "from sklearn.tree import DecisionTreeRegressor\n",
    "\n",
    "def find_best_model_using_gridsearchcv(X,y):\n",
    "    algos = {\n",
    "        'linear_regression' : {\n",
    "            'model': LinearRegression(),\n",
    "            'params': {\n",
    "                'normalize': [True, False]\n",
    "            }\n",
    "        },\n",
    "        'lasso': {\n",
    "            'model': Lasso(),\n",
    "            'params': {\n",
    "                'alpha': [1,2],\n",
    "                'selection': ['random', 'cyclic']\n",
    "            }\n",
    "        },\n",
    "        'decision_tree': {\n",
    "            'model': DecisionTreeRegressor(),\n",
    "            'params': {\n",
    "                'criterion' : ['mse','friedman_mse'],\n",
    "                'splitter': ['best','random']\n",
    "            }\n",
    "        }\n",
    "    }\n",
    "    scores = []\n",
    "    cv = ShuffleSplit(n_splits=5, test_size=0.2, random_state=0)\n",
    "    for algo_name, config in algos.items():\n",
    "        gs =  GridSearchCV(config['model'], config['params'], cv=cv, return_train_score=False)\n",
    "        gs.fit(X,y)\n",
    "        scores.append({\n",
    "            'model': algo_name,\n",
    "            'best_score': gs.best_score_,\n",
    "            'best_params': gs.best_params_\n",
    "        })\n",
    "\n",
    "    return pd.DataFrame(scores,columns=['model','best_score','best_params'])\n",
    "\n",
    "find_best_model_using_gridsearchcv(X,y)"
   ]
  },
  {
   "cell_type": "code",
   "execution_count": 77,
   "id": "82505262",
   "metadata": {},
   "outputs": [],
   "source": [
    "def predict_price(location,sqft,bath,bhk):    \n",
    "    loc_index = np.where(X.columns==location)[0][0]\n",
    "\n",
    "    x = np.zeros(len(X.columns))\n",
    "    x[0] = sqft\n",
    "    x[1] = bath\n",
    "    x[2] = bhk\n",
    "    if loc_index >= 0:\n",
    "        x[loc_index] = 1\n",
    "\n",
    "    return lr_clf.predict([x])[0]"
   ]
  },
  {
   "cell_type": "code",
   "execution_count": 78,
   "id": "aebe3c70",
   "metadata": {},
   "outputs": [
    {
     "data": {
      "text/plain": [
       "-14200761.609964272"
      ]
     },
     "execution_count": 78,
     "metadata": {},
     "output_type": "execute_result"
    }
   ],
   "source": [
    "predict_price('sector5',15, 2, 4)"
   ]
  },
  {
   "cell_type": "code",
   "execution_count": 79,
   "id": "e56fc018",
   "metadata": {},
   "outputs": [
    {
     "data": {
      "text/plain": [
       "array(['other', 'sector5', 'bochila', 'eastrampura', 'pirerbag',\n",
       "       'southmonipur', 'blockj', 'khilbaritek', 'nobodoyhousingsociety',\n",
       "       'merulbadda', 'blocke', 'southbanasreeproject', 'kallyanpur',\n",
       "       'roadno2', 'blocka', 'uttarbadda', 'middlemonipur', 'blockh',\n",
       "       'malibagbazarrd', 'northadabor', 'section2', 'eastkazipara',\n",
       "       'blockd', 'blockg', 'rayerbazaar', 'eastmonipur',\n",
       "       'baitulamanhousingsociety', 'sector3', 'roadno3',\n",
       "       'pcculturehousing', 'northbashabo', 'roadno4', 'section10',\n",
       "       'blockf', 'section1', 'ashkona', 'goran', 'monipuripara', 'blockc',\n",
       "       'meradia', 'greenroad', 'southbashabo', 'southkeraniganj',\n",
       "       'atibazar', 'shahjadpur', 'ahmednagar', 'kadamtala', 'section6',\n",
       "       'southbadda', 'middlebadda', 'matikata',\n",
       "       'westdhanmondiandshangkar', 'sector6', 'pallabi', 'sector10',\n",
       "       'shiddheswarilane', 'westrampura', 'blockb', 'section11',\n",
       "       'sector7', 'sector13', 'blocki', 'elephantroad', 'nayatola',\n",
       "       'mirpurdohs', 'middlepaikpara', 'eastshewrapara',\n",
       "       'southbaridhararesidentialarea', 'bashabomadartekroad',\n",
       "       'section15', 'lakecircusroad', 'mohammadihousingltd.', 'section12',\n",
       "       'manikdi', 'sector14', 'narinda', 'westagargaon', 'sector12',\n",
       "       'mansurabadhousingsociety', 'sector11', 'nurerchala',\n",
       "       'westshewrapara', 'dhakauddan', 'jigatola', 'madhyaajampur',\n",
       "       'sher-e-banglaroad', 'moushair', 'chandrimamodeltown', 'roadno8a',\n",
       "       'wari', 'westkazipara', 'tejkunipara', 'matuail', 'rupnagarr/a',\n",
       "       'taltola', 'kutumgoli', 'gawair', 'sector9', 'sector4', 'banktown',\n",
       "       'shekhertek', 'faydabad', 'gulshan1', 'lakecityconcord', 'doniya',\n",
       "       'freeschoolstreet', 'darussalam', 'tajmahalroad', 'ashulia',\n",
       "       'northkafrulrd', 'neweskatonroad', 'roadno5', 'southmollartek',\n",
       "       'bankcolony', 'northazampur', 'eastbashabo', 'konapara',\n",
       "       'southchalabon', 'moinartakroad'], dtype=object)"
      ]
     },
     "execution_count": 79,
     "metadata": {},
     "output_type": "execute_result"
    }
   ],
   "source": [
    "df9['location'].unique()"
   ]
  },
  {
   "cell_type": "code",
   "execution_count": null,
   "id": "b3fca7c8",
   "metadata": {},
   "outputs": [],
   "source": []
  },
  {
   "cell_type": "code",
   "execution_count": 74,
   "id": "cb91ad14",
   "metadata": {},
   "outputs": [
    {
     "ename": "IndexError",
     "evalue": "invalid index to scalar variable.",
     "output_type": "error",
     "traceback": [
      "\u001b[1;31m---------------------------------------------------------------------------\u001b[0m",
      "\u001b[1;31mIndexError\u001b[0m                                Traceback (most recent call last)",
      "\u001b[1;32m<ipython-input-74-3e6e5d5201d2>\u001b[0m in \u001b[0;36m<module>\u001b[1;34m\u001b[0m\n\u001b[1;32m----> 1\u001b[1;33m \u001b[0mpredict_price\u001b[0m\u001b[1;33m(\u001b[0m\u001b[1;34m'sector5'\u001b[0m\u001b[1;33m,\u001b[0m\u001b[1;36m1500\u001b[0m\u001b[1;33m,\u001b[0m \u001b[1;36m2\u001b[0m\u001b[1;33m,\u001b[0m \u001b[1;36m4\u001b[0m\u001b[1;33m)\u001b[0m\u001b[1;33m\u001b[0m\u001b[1;33m\u001b[0m\u001b[0m\n\u001b[0m",
      "\u001b[1;32m<ipython-input-72-ea2e7a55d1e6>\u001b[0m in \u001b[0;36mpredict_price\u001b[1;34m(location, sqft, bath, bhk)\u001b[0m\n\u001b[0;32m      2\u001b[0m     \u001b[0mloc_index\u001b[0m \u001b[1;33m=\u001b[0m \u001b[0mnp\u001b[0m\u001b[1;33m.\u001b[0m\u001b[0mwhere\u001b[0m\u001b[1;33m(\u001b[0m\u001b[0mX\u001b[0m\u001b[1;33m.\u001b[0m\u001b[0mcolumns\u001b[0m\u001b[1;33m==\u001b[0m\u001b[0mlocation\u001b[0m\u001b[1;33m)\u001b[0m\u001b[1;33m\u001b[0m\u001b[1;33m\u001b[0m\u001b[0m\n\u001b[0;32m      3\u001b[0m \u001b[1;33m\u001b[0m\u001b[0m\n\u001b[1;32m----> 4\u001b[1;33m     \u001b[0mx\u001b[0m \u001b[1;33m=\u001b[0m \u001b[0mnp\u001b[0m\u001b[1;33m.\u001b[0m\u001b[0mzeros\u001b[0m\u001b[1;33m(\u001b[0m\u001b[0mlen\u001b[0m\u001b[1;33m(\u001b[0m\u001b[0mX\u001b[0m\u001b[1;33m.\u001b[0m\u001b[0mcolumns\u001b[0m\u001b[1;33m)\u001b[0m\u001b[1;33m)\u001b[0m\u001b[1;33m[\u001b[0m\u001b[1;36m0\u001b[0m\u001b[1;33m]\u001b[0m\u001b[1;33m[\u001b[0m\u001b[1;36m0\u001b[0m\u001b[1;33m]\u001b[0m\u001b[1;33m\u001b[0m\u001b[1;33m\u001b[0m\u001b[0m\n\u001b[0m\u001b[0;32m      5\u001b[0m     \u001b[0mx\u001b[0m\u001b[1;33m[\u001b[0m\u001b[1;36m0\u001b[0m\u001b[1;33m]\u001b[0m \u001b[1;33m=\u001b[0m \u001b[0msqft\u001b[0m\u001b[1;33m\u001b[0m\u001b[1;33m\u001b[0m\u001b[0m\n\u001b[0;32m      6\u001b[0m     \u001b[0mx\u001b[0m\u001b[1;33m[\u001b[0m\u001b[1;36m1\u001b[0m\u001b[1;33m]\u001b[0m \u001b[1;33m=\u001b[0m \u001b[0mbath\u001b[0m\u001b[1;33m\u001b[0m\u001b[1;33m\u001b[0m\u001b[0m\n",
      "\u001b[1;31mIndexError\u001b[0m: invalid index to scalar variable."
     ]
    }
   ],
   "source": []
  },
  {
   "cell_type": "code",
   "execution_count": null,
   "id": "d9a1afe0",
   "metadata": {},
   "outputs": [],
   "source": []
  }
 ],
 "metadata": {
  "kernelspec": {
   "display_name": "Python 3",
   "language": "python",
   "name": "python3"
  },
  "language_info": {
   "codemirror_mode": {
    "name": "ipython",
    "version": 3
   },
   "file_extension": ".py",
   "mimetype": "text/x-python",
   "name": "python",
   "nbconvert_exporter": "python",
   "pygments_lexer": "ipython3",
   "version": "3.8.8"
  }
 },
 "nbformat": 4,
 "nbformat_minor": 5
}
